{
 "cells": [
  {
   "cell_type": "markdown",
   "metadata": {},
   "source": [
    "Prvo uključujemo potrebne biblioteke, ili pak njihove dijelove. Osnovna biblioteka koju ćemo koristiti jest ```sklearn```, odlična Python biblioteka za strojno učenje. Dodatno ćemo za vizualizaciju koristiti ```matplotlib```."
   ]
  },
  {
   "cell_type": "code",
   "execution_count": 89,
   "metadata": {
    "collapsed": false
   },
   "outputs": [
    {
     "name": "stdout",
     "output_type": "stream",
     "text": [
      "Populating the interactive namespace from numpy and matplotlib\n"
     ]
    }
   ],
   "source": [
    "%pylab inline\n",
    "import sys\n",
    "sys.path.append('/Library/Python/2.7/site-packages/')\n",
    "from sklearn.model_selection import train_test_split\n",
    "from sklearn.linear_model import LogisticRegression, SGDClassifier\n",
    "from sklearn.metrics import accuracy_score,classification_report,confusion_matrix\n",
    "from sklearn.model_selection import cross_val_predict\n",
    "from sklearn.preprocessing import StandardScaler\n",
    "from sklearn.pipeline import Pipeline\n",
    "from sklearn.dummy import DummyClassifier\n",
    "import matplotlib.pyplot as plt\n",
    "import numpy as np"
   ]
  },
  {
   "cell_type": "markdown",
   "metadata": {
    "collapsed": true
   },
   "source": [
    "Sljedeće učitavamo podatke iz naše ```reldi2.tsv``` datoteke. Za zavisnu varijablu ```y``` proglašavamo korpus, dakle ```hrwac``` ili ```srwac```, dok su nam nezavisne varijable preostale varijable u podatkovnom skupu. Od instanci iz korpusa srWaC uzimamo samo one pisane latinicom, dok one pisane ćirilicom ovdje zanemarujemo."
   ]
  },
  {
   "cell_type": "code",
   "execution_count": 75,
   "metadata": {
    "collapsed": false
   },
   "outputs": [
    {
     "name": "stdout",
     "output_type": "stream",
     "text": [
      "['hr', 'hr', 'hr', 'hr', 'hr']\n",
      "[[850.0, 5.16705882353, 0.128787878788, 1.0, 1.52941176471e-06, 0.674876847291, 2.0], [471.0, 4.89171974522, 0.134146341463, 0.0, 6.36942675159e-07, 0.64347826087, 1.0], [463.0, 5.25917926566, 0.0862068965517, 0.0, 4.31965442765e-07, 0.741071428571, 2.0], [1555.0, 5.2501607717, 0.0766129032258, 0.5, 2.12218649518e-06, 0.658872077029, 2.0], [961.0, 6.57648283039, 0.123456790123, 0.0, 3.12174817898e-07, 0.845714285714, 5.0]]\n"
     ]
    }
   ],
   "source": [
    "X=[]\n",
    "y=[]\n",
    "varijable=open('reldi2.tsv').readline().strip().split('\\t')[2:]\n",
    "for line in open('reldi2.tsv').readlines()[1:]:\n",
    "  line=line.strip().split('\\t')\n",
    "  if not line[1].endswith('cyr'):\n",
    "    y.append(line[1][:2])\n",
    "    X.append([float(e) for e in line[2:]])\n",
    "print y[:5]\n",
    "print X[:5]"
   ]
  },
  {
   "cell_type": "markdown",
   "metadata": {},
   "source": [
    "Sljedeće što radimo jest da dijelimo svoj skup podataka na skup za učenje (90% instanci) te skup za provjeru (10% instanci). Potom učimo klasifikacijski model logističke regresije na podacima za učenje te ispisujemo koeficijente modela. Koeficijenti modela nam govore koliko je pojedina varijabla važna za klasifikacijski proces te "
   ]
  },
  {
   "cell_type": "code",
   "execution_count": 95,
   "metadata": {
    "collapsed": false
   },
   "outputs": [
    {
     "name": "stdout",
     "output_type": "stream",
     "text": [
      "###točnost###\n",
      "0.896551724138\n",
      "###klasifikacijski izvještaj###\n",
      "             precision    recall  f1-score   support\n",
      "\n",
      "         hr       0.92      0.86      0.89        14\n",
      "         sr       0.88      0.93      0.90        15\n",
      "\n",
      "avg / total       0.90      0.90      0.90        29\n",
      "\n",
      "###matrica zabune###\n",
      "[[12  2]\n",
      " [ 1 14]]\n"
     ]
    }
   ],
   "source": [
    "X_train,X_test,y_train,y_test=train_test_split(X,y,test_size=0.1)\n",
    "clf=Pipeline([('scl',StandardScaler()),('clf',LogisticRegression())])\n",
    "clf.fit(X_train,y_train)\n",
    "y_pred=clf.predict(X_test)\n",
    "print '###točnost###'\n",
    "print accuracy_score(y_test,y_pred)\n",
    "print '###klasifikacijski izvještaj###'\n",
    "print classification_report(y_test,y_pred)\n",
    "print '###matrica zabune###'\n",
    "print confusion_matrix(y_test,y_pred)"
   ]
  },
  {
   "cell_type": "code",
   "execution_count": 86,
   "metadata": {
    "collapsed": false
   },
   "outputs": [
    {
     "name": "stdout",
     "output_type": "stream",
     "text": [
      "###točnost###\n",
      "0.80350877193\n",
      "###klasifikacijski izvještaj###\n",
      "             precision    recall  f1-score   support\n",
      "\n",
      "         hr       0.79      0.83      0.81       143\n",
      "         sr       0.82      0.78      0.80       142\n",
      "\n",
      "avg / total       0.80      0.80      0.80       285\n",
      "\n",
      "###matrica zabune###\n",
      "[[118  25]\n",
      " [ 31 111]]\n"
     ]
    }
   ],
   "source": [
    "y_pred=cross_val_predict(clf,X,y,cv=10)\n",
    "print '###točnost###'\n",
    "print accuracy_score(y,y_pred)\n",
    "print '###klasifikacijski izvještaj###'\n",
    "print classification_report(y,y_pred)\n",
    "print '###matrica zabune###'\n",
    "print confusion_matrix(y,y_pred)"
   ]
  },
  {
   "cell_type": "markdown",
   "metadata": {},
   "source": [
    "Postavlja se pitanje kakve bi rezultate postigli da nismo upotrijebili strojno učenje, već odluke donosili nasumično. Zato u strojnom učenju postoji koncept slabog polaznog modela (eng. <i>weak baseline system</i>). U nastavku prikazujemo rezultate onime koji generira nasumični izlaz."
   ]
  },
  {
   "cell_type": "code",
   "execution_count": 93,
   "metadata": {
    "collapsed": false
   },
   "outputs": [
    {
     "name": "stdout",
     "output_type": "stream",
     "text": [
      "###točnost###\n",
      "0.505263157895\n",
      "###klasifikacijski izvještaj###\n",
      "             precision    recall  f1-score   support\n",
      "\n",
      "         hr       0.51      0.52      0.52       143\n",
      "         sr       0.50      0.49      0.49       142\n",
      "\n",
      "avg / total       0.51      0.51      0.51       285\n",
      "\n",
      "###matrica zabune###\n",
      "[[75 68]\n",
      " [73 69]]\n"
     ]
    }
   ],
   "source": [
    "dclf=DummyClassifier()\n",
    "y_pred=cross_val_predict(dclf,X,y,cv=10)\n",
    "print '###točnost###'\n",
    "print accuracy_score(y,y_pred)\n",
    "print '###klasifikacijski izvještaj###'\n",
    "print classification_report(y,y_pred)\n",
    "print '###matrica zabune###'\n",
    "print confusion_matrix(y,y_pred)"
   ]
  },
  {
   "cell_type": "code",
   "execution_count": 91,
   "metadata": {
    "collapsed": false
   },
   "outputs": [
    {
     "data": {
      "text/plain": [
       "<matplotlib.text.Text at 0x10df1f410>"
      ]
     },
     "execution_count": 91,
     "metadata": {},
     "output_type": "execute_result"
    },
    {
     "data": {
      "image/png": "[encoded data removed]",
      "text/plain": [
       "<matplotlib.figure.Figure at 0x10dea8910>"
      ]
     },
     "metadata": {},
     "output_type": "display_data"
    }
   ],
   "source": [
    "X2D=np.array(X)[:,[2,5]]\n",
    "y=np.array(y)\n",
    "colors=[('hr','red'),('sr','blue')]\n",
    "for cl,co in colors:\n",
    "    px = X2D[:,0][y==cl]\n",
    "    py = X2D[:,1][y==cl]\n",
    "    plt.scatter(px,py,c=co)\n",
    "\n",
    "plt.legend([e[0] for e in colors])\n",
    "plt.xlabel('infinitivi')\n",
    "plt.ylabel('imen.glag')"
   ]
  },
  {
   "cell_type": "code",
   "execution_count": 87,
   "metadata": {
    "collapsed": false
   },
   "outputs": [
    {
     "name": "stdout",
     "output_type": "stream",
     "text": [
      "###točnost###\n",
      "0.635087719298\n",
      "###klasifikacijski izvještaj###\n",
      "             precision    recall  f1-score   support\n",
      "\n",
      "         hr       0.66      0.57      0.61       143\n",
      "         sr       0.62      0.70      0.66       142\n",
      "\n",
      "avg / total       0.64      0.64      0.63       285\n",
      "\n",
      "###matrica zabune###\n",
      "[[82 61]\n",
      " [43 99]]\n"
     ]
    }
   ],
   "source": [
    "y_pred=cross_val_predict(clf,X2D,y,cv=10)\n",
    "print '###točnost###'\n",
    "print accuracy_score(y,y_pred)\n",
    "print '###klasifikacijski izvještaj###'\n",
    "print classification_report(y,y_pred)\n",
    "print '###matrica zabune###'\n",
    "print confusion_matrix(y,y_pred)"
   ]
  },
  {
   "cell_type": "markdown",
   "metadata": {},
   "source": [
    "Pogledajmo za kraj kakav bi rezultat dobili nasumičnim procesom."
   ]
  },
  {
   "cell_type": "code",
   "execution_count": 94,
   "metadata": {
    "collapsed": false
   },
   "outputs": [
    {
     "name": "stdout",
     "output_type": "stream",
     "text": [
      "###točnost###\n",
      "0.501754385965\n",
      "###klasifikacijski izvještaj###\n",
      "             precision    recall  f1-score   support\n",
      "\n",
      "         hr       0.50      0.51      0.51       143\n",
      "         sr       0.50      0.49      0.50       142\n",
      "\n",
      "avg / total       0.50      0.50      0.50       285\n",
      "\n",
      "###matrica zabune###\n",
      "[[73 70]\n",
      " [72 70]]\n"
     ]
    }
   ],
   "source": [
    "y_pred=cross_val_predict(dclf,X2D,y,cv=10)\n",
    "print '###točnost###'\n",
    "print accuracy_score(y,y_pred)\n",
    "print '###klasifikacijski izvještaj###'\n",
    "print classification_report(y,y_pred)\n",
    "print '###matrica zabune###'\n",
    "print confusion_matrix(y,y_pred)"
   ]
  },
  {
   "cell_type": "code",
   "execution_count": null,
   "metadata": {
    "collapsed": true
   },
   "outputs": [],
   "source": []
  }
 ],
 "metadata": {
  "kernelspec": {
   "display_name": "Python 2",
   "language": "python",
   "name": "python2"
  },
  "language_info": {
   "codemirror_mode": {
    "name": "ipython",
    "version": 2
   },
   "file_extension": ".py",
   "mimetype": "text/x-python",
   "name": "python",
   "nbconvert_exporter": "python",
   "pygments_lexer": "ipython2",
   "version": "2.7.12"
  }
 },
 "nbformat": 4,
 "nbformat_minor": 0
}
