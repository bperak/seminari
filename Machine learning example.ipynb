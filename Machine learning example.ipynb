{
 "cells": [
  {
   "cell_type": "markdown",
   "metadata": {},
   "source": [
    "Prvo uključujemo potrebne biblioteke, ili pak njihove dijelove. Osnovna biblioteka koju ćemo koristiti jest ```sklearn```, odlična Python biblioteka za strojno učenje. Dodatno ćemo za vizualizaciju koristiti ```matplotlib```."
   ]
  },
  {
   "cell_type": "code",
   "execution_count": 93,
   "metadata": {
    "collapsed": false
   },
   "outputs": [
    {
     "name": "stdout",
     "output_type": "stream",
     "text": [
      "Populating the interactive namespace from numpy and matplotlib\n"
     ]
    }
   ],
   "source": [
    "%pylab inline\n",
    "from sklearn.model_selection import train_test_split\n",
    "from sklearn.linear_model import LogisticRegression, SGDClassifier\n",
    "from sklearn.metrics import accuracy_score,classification_report,confusion_matrix\n",
    "from sklearn.model_selection import cross_val_predict\n",
    "from sklearn.preprocessing import StandardScaler\n",
    "from sklearn.pipeline import Pipeline\n",
    "from sklearn.dummy import DummyClassifier\n",
    "import matplotlib.pyplot as plt\n",
    "import numpy as np"
   ]
  },
  {
   "cell_type": "markdown",
   "metadata": {
    "collapsed": true
   },
   "source": [
    "Sljedeće učitavamo podatke iz naše ```reldi2.tsv``` datoteke. Za zavisnu varijablu ```y``` proglašavamo korpus, dakle ```hrwac``` ili ```srwac```, dok su nam nezavisne varijable preostale varijable u podatkovnom skupu. Od instanci iz korpusa srWaC uzimamo samo one pisane latinicom, dok one pisane ćirilicom ovdje zanemarujemo."
   ]
  },
  {
   "cell_type": "code",
   "execution_count": 72,
   "metadata": {
    "collapsed": false
   },
   "outputs": [
    {
     "name": "stdout",
     "output_type": "stream",
     "text": [
      "['hr', 'hr', 'hr', 'hr', 'hr']\n",
      "[[897.0, 4.78929765886, 0.051724137931, 0.0, 1.67224080268e-06, 0.501075268817, 1.0], [1174.0, 5.26235093697, 0.137440758294, 0.333333333333, 7.6660988075e-07, 0.620503597122, 1.0], [402.0, 5.38308457711, 0.136363636364, 0.0, 0.0, 0.752808988764, 1.0], [523.0, 4.25621414914, 0.036036036036, 0.0, 1.9120458891e-06, 0.564705882353, 1.0], [1103.0, 5.46872166818, 0.0484848484848, 0.666666666667, 6.34632819583e-07, 0.723154362416, 1.0]]\n"
     ]
    }
   ],
   "source": [
    "X=[]\n",
    "y=[]\n",
    "varijable=open('reldi2.tsv').readline().strip().split('\\t')[2:]\n",
    "for line in open('reldi2.tsv').readlines()[1:]:\n",
    "  line=line.strip().split('\\t')\n",
    "  #if not line[1].endswith('cyr'):\n",
    "  y.append(line[1][:2])\n",
    "  X.append([float(e) for e in line[2:]])\n",
    "print y[:5]\n",
    "print X[:5]"
   ]
  },
  {
   "cell_type": "markdown",
   "metadata": {},
   "source": [
    "Sljedeće što radimo jest da dijelimo svoj skup podataka na skup za učenje (90% instanci) te skup za provjeru (10% instanci). Potom učimo klasifikacijski model logističke regresije na podacima za učenje te ispisujemo koeficijente modela. Koeficijenti modela nam govore koliko je pojedina varijabla važna za klasifikacijski proces te "
   ]
  },
  {
   "cell_type": "code",
   "execution_count": 83,
   "metadata": {
    "collapsed": false
   },
   "outputs": [
    {
     "name": "stdout",
     "output_type": "stream",
     "text": [
      "###točnost###\n",
      "0.88\n",
      "###klasifikacijski izvještaj###\n",
      "             precision    recall  f1-score   support\n",
      "\n",
      "         hr       0.82      0.74      0.78        42\n",
      "         sr       0.90      0.94      0.92       108\n",
      "\n",
      "avg / total       0.88      0.88      0.88       150\n",
      "\n",
      "###matrica zabune###\n",
      "[[ 31  11]\n",
      " [  7 101]]\n"
     ]
    }
   ],
   "source": [
    "X_train,X_test,y_train,y_test=train_test_split(X,y,test_size=0.1)\n",
    "clf=Pipeline([('scl',StandardScaler()),('clf',LogisticRegression())])\n",
    "clf.fit(X_train,y_train)\n",
    "y_pred=clf.predict(X_test)\n",
    "print '###točnost###'\n",
    "print accuracy_score(y_test,y_pred)\n",
    "print '###klasifikacijski izvještaj###'\n",
    "print classification_report(y_test,y_pred)\n",
    "print '###matrica zabune###'\n",
    "print confusion_matrix(y_test,y_pred)"
   ]
  },
  {
   "cell_type": "code",
   "execution_count": 85,
   "metadata": {
    "collapsed": false
   },
   "outputs": [
    {
     "name": "stdout",
     "output_type": "stream",
     "text": [
      "###točnost###\n",
      "0.841333333333\n",
      "###klasifikacijski izvještaj###\n",
      "             precision    recall  f1-score   support\n",
      "\n",
      "         hr       0.79      0.71      0.75       500\n",
      "         sr       0.86      0.91      0.88      1000\n",
      "\n",
      "avg / total       0.84      0.84      0.84      1500\n",
      "\n",
      "###matrica zabune###\n",
      "[[357 143]\n",
      " [ 95 905]]\n"
     ]
    }
   ],
   "source": [
    "y_pred=cross_val_predict(clf,X,y,cv=10)\n",
    "print '###točnost###'\n",
    "print accuracy_score(y,y_pred)\n",
    "print '###klasifikacijski izvještaj###'\n",
    "print classification_report(y,y_pred)\n",
    "print '###matrica zabune###'\n",
    "print confusion_matrix(y,y_pred)"
   ]
  },
  {
   "cell_type": "markdown",
   "metadata": {},
   "source": [
    "Postavlja se pitanje kakve bi rezultate postigli da nismo upotrijebili strojno učenje, već odluke donosili nasumično. Zato u strojnom učenju postoji koncept slabog polaznog modela (eng. <i>weak baseline system</i>). U nastavku prikazujemo rezultate onime koji generira nasumični izlaz."
   ]
  },
  {
   "cell_type": "code",
   "execution_count": 86,
   "metadata": {
    "collapsed": false
   },
   "outputs": [
    {
     "name": "stdout",
     "output_type": "stream",
     "text": [
      "###točnost###\n",
      "0.530666666667\n",
      "###klasifikacijski izvještaj###\n",
      "             precision    recall  f1-score   support\n",
      "\n",
      "         hr       0.30      0.30      0.30       500\n",
      "         sr       0.65      0.64      0.65      1000\n",
      "\n",
      "avg / total       0.53      0.53      0.53      1500\n",
      "\n",
      "###matrica zabune###\n",
      "[[152 348]\n",
      " [356 644]]\n"
     ]
    }
   ],
   "source": [
    "dclf=DummyClassifier()\n",
    "y_pred=cross_val_predict(dclf,X,y,cv=10)\n",
    "print '###točnost###'\n",
    "print accuracy_score(y,y_pred)\n",
    "print '###klasifikacijski izvještaj###'\n",
    "print classification_report(y,y_pred)\n",
    "print '###matrica zabune###'\n",
    "print confusion_matrix(y,y_pred)"
   ]
  },
  {
   "cell_type": "markdown",
   "metadata": {},
   "source": [
    "Vizualizirajmo dvije nezavisne varijable u koordinatnom prostoru. Vrijednost zavisne varijable zakodirat ćemo bojom."
   ]
  },
  {
   "cell_type": "code",
   "execution_count": 87,
   "metadata": {
    "collapsed": false
   },
   "outputs": [
    {
     "data": {
      "text/plain": [
       "<matplotlib.text.Text at 0x1100f46d0>"
      ]
     },
     "execution_count": 87,
     "metadata": {},
     "output_type": "execute_result"
    },
    {
     "data": {
      "image/png": "[encoded data removed]",
      "text/plain": [
       "<matplotlib.figure.Figure at 0x1100a3390>"
      ]
     },
     "metadata": {},
     "output_type": "display_data"
    }
   ],
   "source": [
    "X2D=np.array(X)[:,[1,2]]\n",
    "y=np.array(y)\n",
    "colors=[('hr','red'),('sr','blue')]\n",
    "for cl,co in colors:\n",
    "    px = X2D[:,0][y==cl]\n",
    "    py = X2D[:,1][y==cl]\n",
    "    plt.scatter(px,py,c=co)\n",
    "\n",
    "plt.legend([e[0] for e in colors])\n",
    "plt.xlabel('duzina.reci')\n",
    "plt.ylabel('infinitivi')"
   ]
  },
  {
   "cell_type": "markdown",
   "metadata": {},
   "source": [
    "Pokrenimo klasifikacijski postupak unakrsnom validacijom na tom osiromašenom skupu podataka."
   ]
  },
  {
   "cell_type": "code",
   "execution_count": 90,
   "metadata": {
    "collapsed": false
   },
   "outputs": [
    {
     "name": "stdout",
     "output_type": "stream",
     "text": [
      "###točnost###\n",
      "0.756666666667\n",
      "###klasifikacijski izvještaj###\n",
      "             precision    recall  f1-score   support\n",
      "\n",
      "         hr       0.71      0.46      0.56       500\n",
      "         sr       0.77      0.91      0.83      1000\n",
      "\n",
      "avg / total       0.75      0.76      0.74      1500\n",
      "\n",
      "###matrica zabune###\n",
      "[[228 272]\n",
      " [ 93 907]]\n"
     ]
    }
   ],
   "source": [
    "y_pred=cross_val_predict(clf,X2D,y,cv=10)\n",
    "print '###točnost###'\n",
    "print accuracy_score(y,y_pred)\n",
    "print '###klasifikacijski izvještaj###'\n",
    "print classification_report(y,y_pred)\n",
    "print '###matrica zabune###'\n",
    "print confusion_matrix(y,y_pred)"
   ]
  },
  {
   "cell_type": "markdown",
   "metadata": {},
   "source": [
    "Pogledajmo za kraj kakav bi rezultat dobili na osiromašenom skupu podataka nasumičnim procesom."
   ]
  },
  {
   "cell_type": "code",
   "execution_count": 91,
   "metadata": {
    "collapsed": false
   },
   "outputs": [
    {
     "name": "stdout",
     "output_type": "stream",
     "text": [
      "###točnost###\n",
      "0.54\n",
      "###klasifikacijski izvještaj###\n",
      "             precision    recall  f1-score   support\n",
      "\n",
      "         hr       0.32      0.35      0.34       500\n",
      "         sr       0.66      0.64      0.65      1000\n",
      "\n",
      "avg / total       0.55      0.54      0.54      1500\n",
      "\n",
      "###matrica zabune###\n",
      "[[174 326]\n",
      " [364 636]]\n"
     ]
    }
   ],
   "source": [
    "y_pred=cross_val_predict(dclf,X2D,y,cv=10)\n",
    "print '###točnost###'\n",
    "print accuracy_score(y,y_pred)\n",
    "print '###klasifikacijski izvještaj###'\n",
    "print classification_report(y,y_pred)\n",
    "print '###matrica zabune###'\n",
    "print confusion_matrix(y,y_pred)"
   ]
  }
 ],
 "metadata": {
  "kernelspec": {
   "display_name": "Python 2",
   "language": "python",
   "name": "python2"
  },
  "language_info": {
   "codemirror_mode": {
    "name": "ipython",
    "version": 2
   },
   "file_extension": ".py",
   "mimetype": "text/x-python",
   "name": "python",
   "nbconvert_exporter": "python",
   "pygments_lexer": "ipython2",
   "version": "2.7.12"
  }
 },
 "nbformat": 4,
 "nbformat_minor": 0
}
